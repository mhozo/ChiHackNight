{
 "cells": [
  {
   "cell_type": "code",
   "execution_count": 4,
   "metadata": {},
   "outputs": [
    {
     "name": "stdout",
     "output_type": "stream",
     "text": [
      "C:\\Users\\Mak Hozo\\Documents\\Data Science\\ParkingTickets\n"
     ]
    }
   ],
   "source": [
    "import time\n",
    "import os\n",
    "cwd = os.getcwd()\n",
    "print(cwd)\n",
    "\n",
    "#  import csv\\n\",\n",
    "#  f = open('Divvy_Trips_2017_Q3Q4\\\\Divvy_Trips_2017_Q4.csv')\\n\",\n",
    "#  csv_f = csv.reader(f)\\n\",\n",
    " # print(csv_f)\\n\",\n",
    "#  for row in csv_f :\\n\",\n",
    "#      print(row)\\n\"\n",
    "\n",
    "import time\n",
    "import numpy as np # linear algebra\n",
    "import pandas as pd # data processing, CSV file I/O (e.g. pd.read_csv)\n",
    "import matplotlib.pyplot as plt\n",
    "import seaborn as sns\n",
    "from sklearn.ensemble import RandomForestClassifier\n",
    "# matplotlib inline\n",
    "\n",
    "from numpy import mean\n",
    "from numpy import median\n"
   ]
  },
  {
   "cell_type": "code",
   "execution_count": 5,
   "metadata": {},
   "outputs": [
    {
     "name": "stdout",
     "output_type": "stream",
     "text": [
      "Hello world\n"
     ]
    },
    {
     "name": "stderr",
     "output_type": "stream",
     "text": [
      "C:\\Anaconda\\lib\\site-packages\\IPython\\core\\interactiveshell.py:2728: DtypeWarning: Columns (6,9) have mixed types. Specify dtype option on import or set low_memory=False.\n",
      "  interactivity=interactivity, compiler=compiler, result=result)\n"
     ]
    },
    {
     "name": "stdout",
     "output_type": "stream",
     "text": [
      "6.230479955673218\n",
      "Done\n"
     ]
    }
   ],
   "source": [
    "\n",
    "print(\"Hello world\")\n",
    "\n",
    "\n",
    "start = time.time()\n",
    "tickets = pd.read_csv('data\\processed\\parking_tickets.csv', nrows=999999)\n",
    "tickets.head()\n",
    "end = time.time()\n",
    "print(end - start)\n",
    "print(\"Done\")\n"
   ]
  },
  {
   "cell_type": "code",
   "execution_count": 17,
   "metadata": {},
   "outputs": [
    {
     "name": "stdout",
     "output_type": "stream",
     "text": [
      "999999 records read in this dataset\n",
      "\n",
      "   ticket_number           issue_date violation_location  \\\n",
      "0       51551278  2007-01-01 00:00:00     6014 W 64TH ST   \n",
      "1       51491256  2007-01-01 00:00:00     530 N MICHIGAN   \n",
      "2       50433524  2007-01-01 00:01:00        4001 N LONG   \n",
      "3       51430906  2007-01-01 00:01:00       303 E WACKER   \n",
      "4       51507779  2007-01-01 00:01:00        7 E 41ST ST   \n",
      "\n",
      "                                license_plate_number license_plate_state  \\\n",
      "0  90ad622c3274c9bdc9d8c812b79a01d0aaf7479f2bd743...                  IL   \n",
      "1  bce4dc26b2c96965380cb2b838cdbb95632b7b57160612...                  IL   \n",
      "2  44641e828f4d894c883c07c566063c2d99d08f2c03b3d4...                  IL   \n",
      "3  eee50ca0d9be2debd0e7d45bad05b8674a6cf5b892230f...                  IL   \n",
      "4  244116ca3eed4235b1f61f6d753d8c688be2a48c9fdd97...                  IL   \n",
      "\n",
      "  license_plate_type    zipcode violation_code  \\\n",
      "0                PAS      60638       0976160F   \n",
      "1                PAS  606343801       0964150B   \n",
      "2                PAS      60148       0976160F   \n",
      "3                PAS      60601       0964110A   \n",
      "4                PAS  605053013       0976220B   \n",
      "\n",
      "                      violation_description unit             ...               \\\n",
      "0  EXPIRED PLATES OR TEMPORARY REGISTRATION    8             ...                \n",
      "1       PARKING/STANDING PROHIBITED ANYTIME   18             ...                \n",
      "2  EXPIRED PLATES OR TEMPORARY REGISTRATION   16             ...                \n",
      "3                DOUBLE PARKING OR STANDING  152             ...                \n",
      "4     SMOKED/TINTED WINDOWS PARKED/STANDING    2             ...                \n",
      "\n",
      "  fine_level2_amount current_amount_due  total_payments  ticket_queue  \\\n",
      "0                100                0.0           100.0          Paid   \n",
      "1                100               50.0             0.0        Define   \n",
      "2                100                0.0            50.0          Paid   \n",
      "3                200                0.0           100.0          Paid   \n",
      "4                 50                0.0            50.0          Paid   \n",
      "\n",
      "     ticket_queue_date  notice_level hearing_disposition notice_number  \\\n",
      "0  2007-05-21 00:00:00          SEIZ                 NaN    5048648030   \n",
      "1  2007-01-22 00:00:00           NaN                 NaN             0   \n",
      "2  2007-01-31 00:00:00          VIOL                 NaN    5079875240   \n",
      "3  2007-03-08 00:00:00          DETR              Liable    5023379950   \n",
      "4  2007-08-29 00:00:00          SEIZ                 NaN    5079891400   \n",
      "\n",
      "  officer                      address  \n",
      "0   15227  6000 w 64th st, chicago, il  \n",
      "1   18320  500 n michigan, chicago, il  \n",
      "2    3207     4000 n long, chicago, il  \n",
      "3   19410    300 e wacker, chicago, il  \n",
      "4   66396     7 e 41st st, chicago, il  \n",
      "\n",
      "[5 rows x 23 columns]\n",
      "ticket_number              int64\n",
      "issue_date                object\n",
      "violation_location        object\n",
      "license_plate_number      object\n",
      "license_plate_state       object\n",
      "license_plate_type        object\n",
      "zipcode                   object\n",
      "violation_code            object\n",
      "violation_description     object\n",
      "unit                      object\n",
      "unit_description          object\n",
      "vehicle_make              object\n",
      "fine_level1_amount         int64\n",
      "fine_level2_amount         int64\n",
      "current_amount_due       float64\n",
      "total_payments           float64\n",
      "ticket_queue              object\n",
      "ticket_queue_date         object\n",
      "notice_level              object\n",
      "hearing_disposition       object\n",
      "notice_number              int64\n",
      "officer                   object\n",
      "address                   object\n",
      "dtype: object\n",
      "       ticket_number  fine_level1_amount  fine_level2_amount  \\\n",
      "count   9.999990e+05       999999.000000       999999.000000   \n",
      "mean    2.874145e+09           57.402602          112.864603   \n",
      "std     4.179666e+09           29.358596           51.843642   \n",
      "min     4.956720e+05           25.000000           50.000000   \n",
      "25%     5.161849e+07           50.000000          100.000000   \n",
      "50%     5.195437e+07           50.000000          100.000000   \n",
      "75%     9.057424e+09           50.000000          100.000000   \n",
      "max     9.005159e+10          200.000000          250.000000   \n",
      "\n",
      "       current_amount_due  total_payments  notice_number  \n",
      "count       999999.000000   999999.000000   9.999990e+05  \n",
      "mean            25.459624       52.775426   3.762789e+09  \n",
      "std             59.258329       55.283092   2.221611e+09  \n",
      "min          -1335.000000      -60.000000   0.000000e+00  \n",
      "25%              0.000000        0.000000   0.000000e+00  \n",
      "50%              0.000000       50.000000   5.079060e+09  \n",
      "75%              0.000000       75.000000   5.081886e+09  \n",
      "max            417.240000     1457.000000   5.213797e+09  \n"
     ]
    }
   ],
   "source": [
    "print(len(tickets.index), \"records read in this dataset\\n\") \n",
    "print(tickets.head())\n",
    "\n",
    "print(tickets.dtypes)\n",
    "print(tickets.describe())"
   ]
  },
  {
   "cell_type": "code",
   "execution_count": 18,
   "metadata": {},
   "outputs": [],
   "source": [
    "# Learning sns.barplot:\n",
    "# sns.barplot(x=\"Embarked\", y=\"Survived\", hue=\"Sex\", data=data_train);\n",
    "# sns.set_style(\"whitegrid\")\n",
    "# sns.barplot(x=\"Pclass\", y = \"Survived\", data=data_train);\n",
    "# sns.barplot(x=\"Survived\", y = \"Sex\", data=data_train, order=[\"female\", \"male\"]);\n",
    "# sns.barplot(x=\"Pclass\", y=\"Survived\", data=data_train, estimator=mean, ci=68, capsize=0.2, palette = \"Blues_d\");\n",
    "# sns.barplot(x=\"Survived\", y = \"Pclass\", orient=\"h\", data=data_train);"
   ]
  },
  {
   "cell_type": "code",
   "execution_count": 22,
   "metadata": {},
   "outputs": [
    {
     "data": {
      "image/png": "[encoded data removed]",
      "text/plain": [
       "<matplotlib.figure.Figure at 0x25a2191ed30>"
      ]
     },
     "metadata": {},
     "output_type": "display_data"
    }
   ],
   "source": [
    "\n",
    "sns.set_style(\"whitegrid\");\n",
    "fig, ax =plt.subplots(1,2)\n",
    "sns.barplot(x=\"ticket_queue\", y=\"current_amount_due\", palette = \"Blues_d\", ci=None, data=tickets, ax=ax[0]);\n",
    "sns.barplot(x=\"total_payments\", y=\"current_amount_due\", palette = \"Blues_d\", ci=None, data=tickets, ax=ax[1]);\n",
    "# fig.show()\n",
    "# fig.tight_layout() \n",
    "# fig, ax =plt.subplots(1,2)\n",
    "# # sns.barplot(x=\"Parch\", y=\"Survived\", palette = \"Blues_d\", ci=None, data=data_train);\n",
    "# sns.barplot(x=\"license_plate_type\",  hue = \"current_amount_due\", y=\"current_amount_due\", palette = \"Blues_d\", ci=None, data=tickets, ax=ax[0]);\n",
    "# sns.barplot(x=\"total_payments\", y=\"current_amount_due\", palette = \"Blues_d\", orient=\"v\", data=tickets, ci= None, ax=ax[1]);\n",
    "\n",
    "# fig.tight_layout() \n",
    "# fig, ax =plt.subplots(1,2)\n",
    "# sns.barplot(x=\"total_payments\",  y = \"current_amount_due\", palette = \"Blues_d\", data=tickets, ax=ax[0]);\n",
    "# sns.distplot(data_train['total_payments'].dropna(how='any'),ax=ax[1]);\n",
    "# fig.tight_layout() \n",
    "\n",
    "# fig, ax = plt.subplots()\n",
    "# for a in [data_train[data_train[\"Survived\"]==1][\"Age\"].dropna(how='any'),             #yellow\n",
    "#           data_train[data_train[\"Survived\"]==0][\"Age\"].sample(342).dropna(how='any')]: #blue\n",
    "#     sns.distplot(a, bins=range(1, 81, 10), ax=ax, kde=False)\n",
    "    \n",
    "# fig.tight_layout() \n",
    "\n",
    "\n",
    "# ax.set_xlim([0, 100])\n",
    "# 342+549 #549 did not survive"
   ]
  },
  {
   "cell_type": "code",
   "execution_count": null,
   "metadata": {},
   "outputs": [],
   "source": []
  }
 ],
 "metadata": {
  "kernelspec": {
   "display_name": "Python 3",
   "language": "python",
   "name": "python3"
  },
  "language_info": {
   "codemirror_mode": {
    "name": "ipython",
    "version": 3
   },
   "file_extension": ".py",
   "mimetype": "text/x-python",
   "name": "python",
   "nbconvert_exporter": "python",
   "pygments_lexer": "ipython3",
   "version": "3.6.4"
  }
 },
 "nbformat": 4,
 "nbformat_minor": 2
}
